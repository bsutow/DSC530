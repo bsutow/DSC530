{
 "cells": [
  {
   "cell_type": "code",
   "execution_count": 2,
   "metadata": {},
   "outputs": [
    {
     "name": "stdout",
     "output_type": "stream",
     "text": [
      "       caseid  pregordr  howpreg_n  howpreg_p  moscurrp  nowprgdk  pregend1  \\\n",
      "0           1         1        NaN        NaN       NaN       NaN       6.0   \n",
      "1           1         2        NaN        NaN       NaN       NaN       6.0   \n",
      "2           2         1        NaN        NaN       NaN       NaN       5.0   \n",
      "3           2         2        NaN        NaN       NaN       NaN       6.0   \n",
      "4           2         3        NaN        NaN       NaN       NaN       6.0   \n",
      "...       ...       ...        ...        ...       ...       ...       ...   \n",
      "13581   12568         2        NaN        NaN       NaN       NaN       5.0   \n",
      "13584   12569         2        NaN        NaN       NaN       NaN       6.0   \n",
      "13588   12571         1        NaN        NaN       NaN       NaN       6.0   \n",
      "13591   12571         4        NaN        NaN       NaN       NaN       6.0   \n",
      "13592   12571         5        NaN        NaN       NaN       NaN       6.0   \n",
      "\n",
      "       pregend2  nbrnaliv  multbrth  ...  laborfor_i  religion_i  metro_i  \\\n",
      "0           NaN       1.0       NaN  ...           0           0        0   \n",
      "1           NaN       1.0       NaN  ...           0           0        0   \n",
      "2           NaN       3.0       5.0  ...           0           0        0   \n",
      "3           NaN       1.0       NaN  ...           0           0        0   \n",
      "4           NaN       1.0       NaN  ...           0           0        0   \n",
      "...         ...       ...       ...  ...         ...         ...      ...   \n",
      "13581       NaN       1.0       NaN  ...           0           0        0   \n",
      "13584       NaN       1.0       NaN  ...           0           0        0   \n",
      "13588       NaN       1.0       NaN  ...           0           0        0   \n",
      "13591       NaN       1.0       NaN  ...           0           0        0   \n",
      "13592       NaN       1.0       NaN  ...           0           0        0   \n",
      "\n",
      "           basewgt  adj_mod_basewgt      finalwgt  secu_p  sest  cmintvw  \\\n",
      "0      3410.389399      3869.349602   6448.271112       2     9      NaN   \n",
      "1      3410.389399      3869.349602   6448.271112       2     9      NaN   \n",
      "2      7226.301740      8567.549110  12999.542264       2    12      NaN   \n",
      "3      7226.301740      8567.549110  12999.542264       2    12      NaN   \n",
      "4      7226.301740      8567.549110  12999.542264       2    12      NaN   \n",
      "...            ...              ...           ...     ...   ...      ...   \n",
      "13581  2734.687353      4258.980140   7772.212858       2    28      NaN   \n",
      "13584  2580.967613      2925.167116   5075.164946       2    61      NaN   \n",
      "13588  4670.540953      5795.692880   6269.200989       1    78      NaN   \n",
      "13591  4670.540953      5795.692880   6269.200989       1    78      NaN   \n",
      "13592  4670.540953      5795.692880   6269.200989       1    78      NaN   \n",
      "\n",
      "       totalwgt_lb  \n",
      "0           8.8125  \n",
      "1           7.8750  \n",
      "2           9.1250  \n",
      "3           7.0000  \n",
      "4           6.1875  \n",
      "...            ...  \n",
      "13581       6.3750  \n",
      "13584       6.3750  \n",
      "13588       6.1875  \n",
      "13591       7.5000  \n",
      "13592       7.5000  \n",
      "\n",
      "[9148 rows x 244 columns]\n"
     ]
    }
   ],
   "source": [
    "#Setup#\n",
    "import nsfg\n",
    "import thinkplot\n",
    "import thinkstats2\n",
    "import matplotlib.pyplot as plt\n",
    "import thinkstats2\n",
    "hist = thinkstats2.Hist([1, 2, 2, 3, 5]) \n",
    "preg = nsfg.ReadFemPreg() \n",
    "live = preg[preg.outcome == 1] \n",
    "print(live)"
   ]
  },
  {
   "cell_type": "code",
   "execution_count": 3,
   "metadata": {},
   "outputs": [
    {
     "name": "stdout",
     "output_type": "stream",
     "text": [
      "       caseid  pregordr  howpreg_n  howpreg_p  moscurrp  nowprgdk  pregend1  \\\n",
      "0           1         1        NaN        NaN       NaN       NaN       6.0   \n",
      "2           2         1        NaN        NaN       NaN       NaN       5.0   \n",
      "5           6         1        NaN        NaN       NaN       NaN       6.0   \n",
      "8           7         1        NaN        NaN       NaN       NaN       5.0   \n",
      "10         12         1        NaN        NaN       NaN       NaN       5.0   \n",
      "...       ...       ...        ...        ...       ...       ...       ...   \n",
      "13576   12565         1        NaN        NaN       NaN       NaN       6.0   \n",
      "13578   12566         1        NaN        NaN       NaN       NaN       6.0   \n",
      "13581   12568         2        NaN        NaN       NaN       NaN       5.0   \n",
      "13584   12569         2        NaN        NaN       NaN       NaN       6.0   \n",
      "13588   12571         1        NaN        NaN       NaN       NaN       6.0   \n",
      "\n",
      "       pregend2  nbrnaliv  multbrth  ...  laborfor_i  religion_i  metro_i  \\\n",
      "0           NaN       1.0       NaN  ...           0           0        0   \n",
      "2           NaN       3.0       5.0  ...           0           0        0   \n",
      "5           NaN       1.0       NaN  ...           0           0        0   \n",
      "8           NaN       1.0       NaN  ...           0           0        0   \n",
      "10          NaN       1.0       NaN  ...           0           0        0   \n",
      "...         ...       ...       ...  ...         ...         ...      ...   \n",
      "13576       NaN       1.0       NaN  ...           0           0        0   \n",
      "13578       NaN       1.0       NaN  ...           0           0        0   \n",
      "13581       NaN       1.0       NaN  ...           0           0        0   \n",
      "13584       NaN       1.0       NaN  ...           0           0        0   \n",
      "13588       NaN       1.0       NaN  ...           0           0        0   \n",
      "\n",
      "           basewgt  adj_mod_basewgt      finalwgt  secu_p  sest  cmintvw  \\\n",
      "0      3410.389399      3869.349602   6448.271112       2     9      NaN   \n",
      "2      7226.301740      8567.549110  12999.542264       2    12      NaN   \n",
      "5      4870.926435      5325.196999   8874.440799       1    23      NaN   \n",
      "8      3409.579565      3787.539000   6911.879921       2    14      NaN   \n",
      "10     3612.781968      4146.013572   6909.331618       1    31      NaN   \n",
      "...            ...              ...           ...     ...   ...      ...   \n",
      "13576  3195.641221      3834.241709   6652.409365       1    78      NaN   \n",
      "13578  2080.317155      2422.820274   2627.548587       2     2      NaN   \n",
      "13581  2734.687353      4258.980140   7772.212858       2    28      NaN   \n",
      "13584  2580.967613      2925.167116   5075.164946       2    61      NaN   \n",
      "13588  4670.540953      5795.692880   6269.200989       1    78      NaN   \n",
      "\n",
      "       totalwgt_lb  \n",
      "0           8.8125  \n",
      "2           9.1250  \n",
      "5           8.5625  \n",
      "8           7.5625  \n",
      "10          7.8125  \n",
      "...            ...  \n",
      "13576       6.4375  \n",
      "13578       6.0000  \n",
      "13581       6.3750  \n",
      "13584       6.3750  \n",
      "13588       6.1875  \n",
      "\n",
      "[4413 rows x 244 columns]\n"
     ]
    }
   ],
   "source": [
    "#Loads data to compare first and others#\n",
    "firsts = live[live.birthord == 1] \n",
    "others = live[live.birthord != 1] \n",
    "print(firsts)"
   ]
  },
  {
   "cell_type": "code",
   "execution_count": 4,
   "metadata": {},
   "outputs": [
    {
     "name": "stdout",
     "output_type": "stream",
     "text": [
      "0        8.8125\n",
      "2        9.1250\n",
      "5        8.5625\n",
      "8        7.5625\n",
      "10       7.8125\n",
      "          ...  \n",
      "13576    6.4375\n",
      "13578    6.0000\n",
      "13581    6.3750\n",
      "13584    6.3750\n",
      "13588    6.1875\n",
      "Name: totalwgt_lb, Length: 4413, dtype: float64\n",
      "1        7.8750\n",
      "3        7.0000\n",
      "4        6.1875\n",
      "6        9.5625\n",
      "7        8.3750\n",
      "          ...  \n",
      "13572    5.8125\n",
      "13574    6.1250\n",
      "13579    7.0000\n",
      "13591    7.5000\n",
      "13592    7.5000\n",
      "Name: totalwgt_lb, Length: 4735, dtype: float64\n"
     ]
    }
   ],
   "source": [
    "#Loads data for weights#\n",
    "\n",
    "firstweights= firsts.totalwgt_lb\n",
    "print(firstweights)\n",
    "\n",
    "othersweights= others.totalwgt_lb\n",
    "print(othersweights)"
   ]
  },
  {
   "cell_type": "code",
   "execution_count": 5,
   "metadata": {},
   "outputs": [
    {
     "name": "stdout",
     "output_type": "stream",
     "text": [
      "7.201094430437772\n",
      "1.4205728777207374\n",
      "2.0180273009157768\n"
     ]
    }
   ],
   "source": [
    "#Below will print statistical signifant factors for both first born and others weights#\n",
    "print(firstweights.mean())\n",
    "print(firstweights.std())\n",
    "print(firstweights.var())"
   ]
  },
  {
   "cell_type": "code",
   "execution_count": 6,
   "metadata": {},
   "outputs": [
    {
     "name": "stdout",
     "output_type": "stream",
     "text": [
      "7.325855614973262\n",
      "1.3941954762143138\n",
      "1.9437810258964572\n"
     ]
    }
   ],
   "source": [
    "print(othersweights.mean())\n",
    "print(othersweights.std())\n",
    "print(othersweights.var())"
   ]
  },
  {
   "cell_type": "code",
   "execution_count": 7,
   "metadata": {},
   "outputs": [
    {
     "data": {
      "text/plain": [
       "count    4363.000000\n",
       "mean        7.201094\n",
       "std         1.420573\n",
       "min         0.125000\n",
       "25%         6.437500\n",
       "50%         7.312500\n",
       "75%         8.000000\n",
       "max        15.437500\n",
       "Name: totalwgt_lb, dtype: float64"
      ]
     },
     "execution_count": 7,
     "metadata": {},
     "output_type": "execute_result"
    }
   ],
   "source": [
    "firstweights.describe()"
   ]
  },
  {
   "cell_type": "code",
   "execution_count": 8,
   "metadata": {},
   "outputs": [
    {
     "data": {
      "text/plain": [
       "count    4675.000000\n",
       "mean        7.325856\n",
       "std         1.394195\n",
       "min         0.562500\n",
       "25%         6.500000\n",
       "50%         7.375000\n",
       "75%         8.187500\n",
       "max        14.000000\n",
       "Name: totalwgt_lb, dtype: float64"
      ]
     },
     "execution_count": 8,
     "metadata": {},
     "output_type": "execute_result"
    }
   ],
   "source": [
    "othersweights.describe()"
   ]
  },
  {
   "cell_type": "code",
   "execution_count": 7,
   "metadata": {},
   "outputs": [
    {
     "data": {
      "image/png": "[encoded data removed]",
      "text/plain": [
       "<Figure size 432x288 with 1 Axes>"
      ]
     },
     "metadata": {
      "needs_background": "light"
     },
     "output_type": "display_data"
    },
    {
     "data": {
      "text/plain": [
       "<Figure size 576x432 with 0 Axes>"
      ]
     },
     "metadata": {},
     "output_type": "display_data"
    }
   ],
   "source": [
    "#Below shows histogram breakdown of first born child weights#\n",
    "firstwhis= thinkstats2.Hist(firsts.totalwgt_lb, label= 'totalwgt_lb')\n",
    "thinkplot.Hist(firstwhis)\n",
    "thinkplot.show(xlabel= 'Weights', ylabel = 'Frequency')"
   ]
  },
  {
   "cell_type": "code",
   "execution_count": 8,
   "metadata": {},
   "outputs": [
    {
     "data": {
      "image/png": "[encoded data removed]",
      "text/plain": [
       "<Figure size 432x288 with 1 Axes>"
      ]
     },
     "metadata": {
      "needs_background": "light"
     },
     "output_type": "display_data"
    },
    {
     "data": {
      "text/plain": [
       "<Figure size 576x432 with 0 Axes>"
      ]
     },
     "metadata": {},
     "output_type": "display_data"
    }
   ],
   "source": [
    "#Below shows a histogram showing the distribution of after 1st born child#\n",
    "otherwhis= thinkstats2.Hist(others.totalwgt_lb, label= 'totalwgt_lb')\n",
    "thinkplot.Hist(otherwhis)\n",
    "thinkplot.show(xlabel= 'Weights', ylabel = 'Frequency')"
   ]
  },
  {
   "cell_type": "code",
   "execution_count": 11,
   "metadata": {},
   "outputs": [
    {
     "name": "stdout",
     "output_type": "stream",
     "text": [
      "-0.12476118453549034\n",
      "None\n"
     ]
    }
   ],
   "source": [
    "#The following will run cohen to show if there is a difference between the weight sets#\n",
    "cohenmean= print(firstweights.mean()- othersweights.mean())\n",
    "print(cohenmean)"
   ]
  },
  {
   "cell_type": "code",
   "execution_count": 30,
   "metadata": {},
   "outputs": [
    {
     "data": {
      "text/plain": [
       "4413"
      ]
     },
     "execution_count": 30,
     "metadata": {},
     "output_type": "execute_result"
    }
   ],
   "source": [
    "n1=len(firstweights)\n",
    "n1"
   ]
  },
  {
   "cell_type": "code",
   "execution_count": 31,
   "metadata": {},
   "outputs": [
    {
     "data": {
      "text/plain": [
       "4735"
      ]
     },
     "execution_count": 31,
     "metadata": {},
     "output_type": "execute_result"
    }
   ],
   "source": [
    "n2=len(othersweights)\n",
    "n2"
   ]
  },
  {
   "cell_type": "code",
   "execution_count": 33,
   "metadata": {},
   "outputs": [
    {
     "data": {
      "text/plain": [
       "9148"
      ]
     },
     "execution_count": 33,
     "metadata": {},
     "output_type": "execute_result"
    }
   ],
   "source": [
    "num= (n1+n2)\n",
    "num"
   ]
  },
  {
   "cell_type": "code",
   "execution_count": 36,
   "metadata": {},
   "outputs": [
    {
     "name": "stdout",
     "output_type": "stream",
     "text": [
      "2.0180273009157768 1.9437810258964572\n"
     ]
    }
   ],
   "source": [
    "firstwvar= firstweights.var()\n",
    "otherwvar= othersweights.var()\n",
    "print(firstwvar,otherwvar)"
   ]
  },
  {
   "cell_type": "code",
   "execution_count": 39,
   "metadata": {},
   "outputs": [
    {
     "data": {
      "text/plain": [
       "18109.35763656105"
      ]
     },
     "execution_count": 39,
     "metadata": {},
     "output_type": "execute_result"
    }
   ],
   "source": [
    "polledvar = ((n1* firstwvar) + (n2 * otherwvar))\n",
    "polledvar"
   ]
  },
  {
   "cell_type": "code",
   "execution_count": 41,
   "metadata": {},
   "outputs": [
    {
     "data": {
      "text/plain": [
       "1.979597467923158"
      ]
     },
     "execution_count": 41,
     "metadata": {},
     "output_type": "execute_result"
    }
   ],
   "source": [
    "polled_var = polledvar/num\n",
    "polled_var"
   ]
  },
  {
   "cell_type": "code",
   "execution_count": 42,
   "metadata": {},
   "outputs": [
    {
     "data": {
      "text/plain": [
       "1.4069816871314134"
      ]
     },
     "execution_count": 42,
     "metadata": {},
     "output_type": "execute_result"
    }
   ],
   "source": [
    "import math\n",
    "squ = (math.sqrt(polled_var))\n",
    "squ"
   ]
  },
  {
   "cell_type": "code",
   "execution_count": 43,
   "metadata": {},
   "outputs": [
    {
     "data": {
      "text/plain": [
       "1.4069816871314131"
      ]
     },
     "execution_count": 43,
     "metadata": {},
     "output_type": "execute_result"
    }
   ],
   "source": [
    "COHEN= polled_var/squ\n",
    "COHEN"
   ]
  },
  {
   "cell_type": "code",
   "execution_count": null,
   "metadata": {},
   "outputs": [],
   "source": [
    "#Fun comparison#\n",
    "print(firstweights.max())\n",
    "print(firstweights.min())\n",
    "print(othersweights.max())\n",
    "print(othersweights.min())"
   ]
  },
  {
   "cell_type": "code",
   "execution_count": null,
   "metadata": {},
   "outputs": [],
   "source": []
  }
 ],
 "metadata": {
  "kernelspec": {
   "display_name": "Python 3",
   "language": "python",
   "name": "python3"
  },
  "language_info": {
   "codemirror_mode": {
    "name": "ipython",
    "version": 3
   },
   "file_extension": ".py",
   "mimetype": "text/x-python",
   "name": "python",
   "nbconvert_exporter": "python",
   "pygments_lexer": "ipython3",
   "version": "3.8.5"
  }
 },
 "nbformat": 4,
 "nbformat_minor": 4
}
