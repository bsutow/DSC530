{
 "cells": [
  {
   "cell_type": "code",
   "execution_count": 1,
   "metadata": {},
   "outputs": [],
   "source": [
    "#Setup#\n",
    "import nsfg\n",
    "import thinkplot\n",
    "import thinkstats2\n",
    "import matplotlib.pyplot as plt\n",
    "import thinkstats2"
   ]
  },
  {
   "cell_type": "code",
   "execution_count": 2,
   "metadata": {},
   "outputs": [
    {
     "name": "stdout",
     "output_type": "stream",
     "text": [
      "       caseid  pregordr  howpreg_n  howpreg_p  moscurrp  nowprgdk  pregend1  \\\n",
      "0           1         1        NaN        NaN       NaN       NaN       6.0   \n",
      "1           1         2        NaN        NaN       NaN       NaN       6.0   \n",
      "2           2         1        NaN        NaN       NaN       NaN       5.0   \n",
      "3           2         2        NaN        NaN       NaN       NaN       6.0   \n",
      "4           2         3        NaN        NaN       NaN       NaN       6.0   \n",
      "...       ...       ...        ...        ...       ...       ...       ...   \n",
      "13581   12568         2        NaN        NaN       NaN       NaN       5.0   \n",
      "13584   12569         2        NaN        NaN       NaN       NaN       6.0   \n",
      "13588   12571         1        NaN        NaN       NaN       NaN       6.0   \n",
      "13591   12571         4        NaN        NaN       NaN       NaN       6.0   \n",
      "13592   12571         5        NaN        NaN       NaN       NaN       6.0   \n",
      "\n",
      "       pregend2  nbrnaliv  multbrth  ...  laborfor_i  religion_i  metro_i  \\\n",
      "0           NaN       1.0       NaN  ...           0           0        0   \n",
      "1           NaN       1.0       NaN  ...           0           0        0   \n",
      "2           NaN       3.0       5.0  ...           0           0        0   \n",
      "3           NaN       1.0       NaN  ...           0           0        0   \n",
      "4           NaN       1.0       NaN  ...           0           0        0   \n",
      "...         ...       ...       ...  ...         ...         ...      ...   \n",
      "13581       NaN       1.0       NaN  ...           0           0        0   \n",
      "13584       NaN       1.0       NaN  ...           0           0        0   \n",
      "13588       NaN       1.0       NaN  ...           0           0        0   \n",
      "13591       NaN       1.0       NaN  ...           0           0        0   \n",
      "13592       NaN       1.0       NaN  ...           0           0        0   \n",
      "\n",
      "           basewgt  adj_mod_basewgt      finalwgt  secu_p  sest  cmintvw  \\\n",
      "0      3410.389399      3869.349602   6448.271112       2     9      NaN   \n",
      "1      3410.389399      3869.349602   6448.271112       2     9      NaN   \n",
      "2      7226.301740      8567.549110  12999.542264       2    12      NaN   \n",
      "3      7226.301740      8567.549110  12999.542264       2    12      NaN   \n",
      "4      7226.301740      8567.549110  12999.542264       2    12      NaN   \n",
      "...            ...              ...           ...     ...   ...      ...   \n",
      "13581  2734.687353      4258.980140   7772.212858       2    28      NaN   \n",
      "13584  2580.967613      2925.167116   5075.164946       2    61      NaN   \n",
      "13588  4670.540953      5795.692880   6269.200989       1    78      NaN   \n",
      "13591  4670.540953      5795.692880   6269.200989       1    78      NaN   \n",
      "13592  4670.540953      5795.692880   6269.200989       1    78      NaN   \n",
      "\n",
      "       totalwgt_lb  \n",
      "0           8.8125  \n",
      "1           7.8750  \n",
      "2           9.1250  \n",
      "3           7.0000  \n",
      "4           6.1875  \n",
      "...            ...  \n",
      "13581       6.3750  \n",
      "13584       6.3750  \n",
      "13588       6.1875  \n",
      "13591       7.5000  \n",
      "13592       7.5000  \n",
      "\n",
      "[9148 rows x 244 columns]\n"
     ]
    }
   ],
   "source": [
    "#Pulls data for live births#\n",
    "preg = nsfg.ReadFemPreg() \n",
    "live = preg[preg.outcome == 1] \n",
    "print(live)"
   ]
  },
  {
   "cell_type": "code",
   "execution_count": 4,
   "metadata": {},
   "outputs": [],
   "source": [
    "#Describes first born and other born#\n",
    "firsts = live[live.birthord == 1] \n",
    "others = live[live.birthord != 1] "
   ]
  },
  {
   "cell_type": "code",
   "execution_count": 8,
   "metadata": {},
   "outputs": [],
   "source": [
    "#Creates others cdf#\n",
    "others_cdf = thinkstats2.Cdf(others.totalwgt_lb)\n"
   ]
  },
  {
   "cell_type": "code",
   "execution_count": 9,
   "metadata": {},
   "outputs": [
    {
     "data": {
      "text/plain": [
       "63.101604278074866"
      ]
     },
     "execution_count": 9,
     "metadata": {},
     "output_type": "execute_result"
    }
   ],
   "source": [
    "#Checks my percentile rank within the cdf# \n",
    "others_cdf.PercentileRank(7.8)\n"
   ]
  },
  {
   "cell_type": "code",
   "execution_count": null,
   "metadata": {},
   "outputs": [],
   "source": []
  }
 ],
 "metadata": {
  "kernelspec": {
   "display_name": "Python 3",
   "language": "python",
   "name": "python3"
  },
  "language_info": {
   "codemirror_mode": {
    "name": "ipython",
    "version": 3
   },
   "file_extension": ".py",
   "mimetype": "text/x-python",
   "name": "python",
   "nbconvert_exporter": "python",
   "pygments_lexer": "ipython3",
   "version": "3.8.5"
  }
 },
 "nbformat": 4,
 "nbformat_minor": 4
}
