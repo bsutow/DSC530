{
 "cells": [
  {
   "cell_type": "code",
   "execution_count": 1,
   "metadata": {},
   "outputs": [
    {
     "name": "stdout",
     "output_type": "stream",
     "text": [
      "       caseid  pregordr  howpreg_n  howpreg_p  moscurrp  nowprgdk  pregend1  \\\n",
      "0           1         1        NaN        NaN       NaN       NaN       6.0   \n",
      "1           1         2        NaN        NaN       NaN       NaN       6.0   \n",
      "2           2         1        NaN        NaN       NaN       NaN       5.0   \n",
      "3           2         2        NaN        NaN       NaN       NaN       6.0   \n",
      "4           2         3        NaN        NaN       NaN       NaN       6.0   \n",
      "...       ...       ...        ...        ...       ...       ...       ...   \n",
      "13581   12568         2        NaN        NaN       NaN       NaN       5.0   \n",
      "13584   12569         2        NaN        NaN       NaN       NaN       6.0   \n",
      "13588   12571         1        NaN        NaN       NaN       NaN       6.0   \n",
      "13591   12571         4        NaN        NaN       NaN       NaN       6.0   \n",
      "13592   12571         5        NaN        NaN       NaN       NaN       6.0   \n",
      "\n",
      "       pregend2  nbrnaliv  multbrth  ...  laborfor_i  religion_i  metro_i  \\\n",
      "0           NaN       1.0       NaN  ...           0           0        0   \n",
      "1           NaN       1.0       NaN  ...           0           0        0   \n",
      "2           NaN       3.0       5.0  ...           0           0        0   \n",
      "3           NaN       1.0       NaN  ...           0           0        0   \n",
      "4           NaN       1.0       NaN  ...           0           0        0   \n",
      "...         ...       ...       ...  ...         ...         ...      ...   \n",
      "13581       NaN       1.0       NaN  ...           0           0        0   \n",
      "13584       NaN       1.0       NaN  ...           0           0        0   \n",
      "13588       NaN       1.0       NaN  ...           0           0        0   \n",
      "13591       NaN       1.0       NaN  ...           0           0        0   \n",
      "13592       NaN       1.0       NaN  ...           0           0        0   \n",
      "\n",
      "           basewgt  adj_mod_basewgt      finalwgt  secu_p  sest  cmintvw  \\\n",
      "0      3410.389399      3869.349602   6448.271112       2     9      NaN   \n",
      "1      3410.389399      3869.349602   6448.271112       2     9      NaN   \n",
      "2      7226.301740      8567.549110  12999.542264       2    12      NaN   \n",
      "3      7226.301740      8567.549110  12999.542264       2    12      NaN   \n",
      "4      7226.301740      8567.549110  12999.542264       2    12      NaN   \n",
      "...            ...              ...           ...     ...   ...      ...   \n",
      "13581  2734.687353      4258.980140   7772.212858       2    28      NaN   \n",
      "13584  2580.967613      2925.167116   5075.164946       2    61      NaN   \n",
      "13588  4670.540953      5795.692880   6269.200989       1    78      NaN   \n",
      "13591  4670.540953      5795.692880   6269.200989       1    78      NaN   \n",
      "13592  4670.540953      5795.692880   6269.200989       1    78      NaN   \n",
      "\n",
      "       totalwgt_lb  \n",
      "0           8.8125  \n",
      "1           7.8750  \n",
      "2           9.1250  \n",
      "3           7.0000  \n",
      "4           6.1875  \n",
      "...            ...  \n",
      "13581       6.3750  \n",
      "13584       6.3750  \n",
      "13588       6.1875  \n",
      "13591       7.5000  \n",
      "13592       7.5000  \n",
      "\n",
      "[9148 rows x 244 columns]\n"
     ]
    }
   ],
   "source": [
    "#Setup#\n",
    "import nsfg\n",
    "import thinkplot\n",
    "import thinkstats2\n",
    "import matplotlib.pyplot as plt\n",
    "import thinkstats2\n",
    "hist = thinkstats2.Hist([1, 2, 2, 3, 5]) \n",
    "preg = nsfg.ReadFemPreg() \n",
    "live = preg[preg.outcome == 1] \n",
    "print(live)"
   ]
  },
  {
   "cell_type": "code",
   "execution_count": 2,
   "metadata": {},
   "outputs": [
    {
     "name": "stdout",
     "output_type": "stream",
     "text": [
      "       caseid  pregordr  howpreg_n  howpreg_p  moscurrp  nowprgdk  pregend1  \\\n",
      "0           1         1        NaN        NaN       NaN       NaN       6.0   \n",
      "2           2         1        NaN        NaN       NaN       NaN       5.0   \n",
      "5           6         1        NaN        NaN       NaN       NaN       6.0   \n",
      "8           7         1        NaN        NaN       NaN       NaN       5.0   \n",
      "10         12         1        NaN        NaN       NaN       NaN       5.0   \n",
      "...       ...       ...        ...        ...       ...       ...       ...   \n",
      "13576   12565         1        NaN        NaN       NaN       NaN       6.0   \n",
      "13578   12566         1        NaN        NaN       NaN       NaN       6.0   \n",
      "13581   12568         2        NaN        NaN       NaN       NaN       5.0   \n",
      "13584   12569         2        NaN        NaN       NaN       NaN       6.0   \n",
      "13588   12571         1        NaN        NaN       NaN       NaN       6.0   \n",
      "\n",
      "       pregend2  nbrnaliv  multbrth  ...  laborfor_i  religion_i  metro_i  \\\n",
      "0           NaN       1.0       NaN  ...           0           0        0   \n",
      "2           NaN       3.0       5.0  ...           0           0        0   \n",
      "5           NaN       1.0       NaN  ...           0           0        0   \n",
      "8           NaN       1.0       NaN  ...           0           0        0   \n",
      "10          NaN       1.0       NaN  ...           0           0        0   \n",
      "...         ...       ...       ...  ...         ...         ...      ...   \n",
      "13576       NaN       1.0       NaN  ...           0           0        0   \n",
      "13578       NaN       1.0       NaN  ...           0           0        0   \n",
      "13581       NaN       1.0       NaN  ...           0           0        0   \n",
      "13584       NaN       1.0       NaN  ...           0           0        0   \n",
      "13588       NaN       1.0       NaN  ...           0           0        0   \n",
      "\n",
      "           basewgt  adj_mod_basewgt      finalwgt  secu_p  sest  cmintvw  \\\n",
      "0      3410.389399      3869.349602   6448.271112       2     9      NaN   \n",
      "2      7226.301740      8567.549110  12999.542264       2    12      NaN   \n",
      "5      4870.926435      5325.196999   8874.440799       1    23      NaN   \n",
      "8      3409.579565      3787.539000   6911.879921       2    14      NaN   \n",
      "10     3612.781968      4146.013572   6909.331618       1    31      NaN   \n",
      "...            ...              ...           ...     ...   ...      ...   \n",
      "13576  3195.641221      3834.241709   6652.409365       1    78      NaN   \n",
      "13578  2080.317155      2422.820274   2627.548587       2     2      NaN   \n",
      "13581  2734.687353      4258.980140   7772.212858       2    28      NaN   \n",
      "13584  2580.967613      2925.167116   5075.164946       2    61      NaN   \n",
      "13588  4670.540953      5795.692880   6269.200989       1    78      NaN   \n",
      "\n",
      "       totalwgt_lb  \n",
      "0           8.8125  \n",
      "2           9.1250  \n",
      "5           8.5625  \n",
      "8           7.5625  \n",
      "10          7.8125  \n",
      "...            ...  \n",
      "13576       6.4375  \n",
      "13578       6.0000  \n",
      "13581       6.3750  \n",
      "13584       6.3750  \n",
      "13588       6.1875  \n",
      "\n",
      "[4413 rows x 244 columns]\n"
     ]
    }
   ],
   "source": [
    "#First born vs others setup#\n",
    "firsts = live[live.birthord == 1] \n",
    "others = live[live.birthord != 1] \n",
    "print(firsts)"
   ]
  },
  {
   "cell_type": "code",
   "execution_count": 3,
   "metadata": {},
   "outputs": [
    {
     "name": "stdout",
     "output_type": "stream",
     "text": [
      "0        39\n",
      "2        39\n",
      "5        38\n",
      "8        39\n",
      "10       39\n",
      "         ..\n",
      "13576    39\n",
      "13578    39\n",
      "13581    39\n",
      "13584    34\n",
      "13588    39\n",
      "Name: prglngth, Length: 4413, dtype: int64\n",
      "1        39\n",
      "3        39\n",
      "4        39\n",
      "6        40\n",
      "7        42\n",
      "         ..\n",
      "13572    39\n",
      "13574    39\n",
      "13579    39\n",
      "13591    39\n",
      "13592    39\n",
      "Name: prglngth, Length: 4735, dtype: int64\n"
     ]
    }
   ],
   "source": [
    "#Compares preg length data between first born vs other#\n",
    "firstsprglngth= firsts.prglngth\n",
    "print(firstsprglngth)\n",
    "\n",
    "othersprglngth= others.prglngth\n",
    "print(others.prglngth)"
   ]
  },
  {
   "cell_type": "code",
   "execution_count": 4,
   "metadata": {},
   "outputs": [
    {
     "data": {
      "image/png": "[encoded data removed]",
      "text/plain": [
       "<Figure size 432x288 with 1 Axes>"
      ]
     },
     "metadata": {
      "needs_background": "light"
     },
     "output_type": "display_data"
    },
    {
     "data": {
      "text/plain": [
       "<Figure size 576x432 with 0 Axes>"
      ]
     },
     "metadata": {},
     "output_type": "display_data"
    }
   ],
   "source": [
    "#Histogram to compare the two lengths#\n",
    "firsthist= thinkstats2.Hist(firsts.prglngth, label= 'prglngth')\n",
    "thinkplot.Hist(firsthist)\n",
    "thinkplot.show(xlabel= 'Length of Time', ylabel = 'Frequency')"
   ]
  },
  {
   "cell_type": "code",
   "execution_count": 5,
   "metadata": {},
   "outputs": [
    {
     "data": {
      "image/png": "[encoded data removed]",
      "text/plain": [
       "<Figure size 432x288 with 1 Axes>"
      ]
     },
     "metadata": {
      "needs_background": "light"
     },
     "output_type": "display_data"
    },
    {
     "data": {
      "text/plain": [
       "<Figure size 576x432 with 0 Axes>"
      ]
     },
     "metadata": {},
     "output_type": "display_data"
    }
   ],
   "source": [
    "othershist= thinkstats2.Hist(others.prglngth, label= 'prglngth')\n",
    "thinkplot.Hist(othershist)\n",
    "thinkplot.show(xlabel= 'Length of Time', ylabel = 'Frequency')"
   ]
  },
  {
   "cell_type": "code",
   "execution_count": 6,
   "metadata": {},
   "outputs": [
    {
     "name": "stdout",
     "output_type": "stream",
     "text": [
      "38.60095173351461\n",
      "38.52291446673706\n"
     ]
    }
   ],
   "source": [
    "#Showing significant statistics comparing the two#\n",
    "print(firstsprglngth.mean())\n",
    "print(othersprglngth.mean())"
   ]
  },
  {
   "cell_type": "code",
   "execution_count": 7,
   "metadata": {},
   "outputs": [
    {
     "name": "stdout",
     "output_type": "stream",
     "text": [
      "7.794713509229059\n",
      "2.7919014146686947\n",
      "6.842683519298573\n",
      "2.615852350439255\n"
     ]
    }
   ],
   "source": [
    "print(firstsprglngth.var())\n",
    "print(firstsprglngth.std())\n",
    "print(othersprglngth.var())\n",
    "print(othersprglngth.std())"
   ]
  },
  {
   "cell_type": "code",
   "execution_count": 12,
   "metadata": {},
   "outputs": [
    {
     "name": "stdout",
     "output_type": "stream",
     "text": [
      "count    4413.000000\n",
      "mean       38.600952\n",
      "std         2.791901\n",
      "min         0.000000\n",
      "25%        39.000000\n",
      "50%        39.000000\n",
      "75%        40.000000\n",
      "max        48.000000\n",
      "Name: prglngth, dtype: float64\n",
      "count    4735.000000\n",
      "mean       38.522914\n",
      "std         2.615852\n",
      "min         4.000000\n",
      "25%        39.000000\n",
      "50%        39.000000\n",
      "75%        39.000000\n",
      "max        50.000000\n",
      "Name: prglngth, dtype: float64\n"
     ]
    }
   ],
   "source": [
    "print(firstsprglngth.describe())\n",
    "print(othersprglngth.describe())"
   ]
  },
  {
   "cell_type": "code",
   "execution_count": null,
   "metadata": {},
   "outputs": [],
   "source": []
  }
 ],
 "metadata": {
  "kernelspec": {
   "display_name": "Python 3",
   "language": "python",
   "name": "python3"
  },
  "language_info": {
   "codemirror_mode": {
    "name": "ipython",
    "version": 3
   },
   "file_extension": ".py",
   "mimetype": "text/x-python",
   "name": "python",
   "nbconvert_exporter": "python",
   "pygments_lexer": "ipython3",
   "version": "3.8.5"
  }
 },
 "nbformat": 4,
 "nbformat_minor": 4
}
